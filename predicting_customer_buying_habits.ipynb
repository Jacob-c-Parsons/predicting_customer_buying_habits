{
 "cells": [
  {
   "cell_type": "code",
   "execution_count": 2,
   "metadata": {},
   "outputs": [],
   "source": [
    "import pandas as pd\n",
    "import seaborn as sns\n",
    "import numpy as np\n",
    "import matplotlib.pyplot as plt"
   ]
  },
  {
   "cell_type": "code",
   "execution_count": 3,
   "metadata": {},
   "outputs": [
    {
     "data": {
      "text/html": [
       "<div>\n",
       "<style scoped>\n",
       "    .dataframe tbody tr th:only-of-type {\n",
       "        vertical-align: middle;\n",
       "    }\n",
       "\n",
       "    .dataframe tbody tr th {\n",
       "        vertical-align: top;\n",
       "    }\n",
       "\n",
       "    .dataframe thead th {\n",
       "        text-align: right;\n",
       "    }\n",
       "</style>\n",
       "<table border=\"1\" class=\"dataframe\">\n",
       "  <thead>\n",
       "    <tr style=\"text-align: right;\">\n",
       "      <th></th>\n",
       "      <th>num_passengers</th>\n",
       "      <th>sales_channel</th>\n",
       "      <th>trip_type</th>\n",
       "      <th>purchase_lead</th>\n",
       "      <th>length_of_stay</th>\n",
       "      <th>flight_hour</th>\n",
       "      <th>flight_day</th>\n",
       "      <th>route</th>\n",
       "      <th>booking_origin</th>\n",
       "      <th>wants_extra_baggage</th>\n",
       "      <th>wants_preferred_seat</th>\n",
       "      <th>wants_in_flight_meals</th>\n",
       "      <th>flight_duration</th>\n",
       "      <th>booking_complete</th>\n",
       "    </tr>\n",
       "  </thead>\n",
       "  <tbody>\n",
       "    <tr>\n",
       "      <td>0</td>\n",
       "      <td>2</td>\n",
       "      <td>Internet</td>\n",
       "      <td>RoundTrip</td>\n",
       "      <td>262</td>\n",
       "      <td>19</td>\n",
       "      <td>7</td>\n",
       "      <td>Sat</td>\n",
       "      <td>AKLDEL</td>\n",
       "      <td>New Zealand</td>\n",
       "      <td>1</td>\n",
       "      <td>0</td>\n",
       "      <td>0</td>\n",
       "      <td>5.52</td>\n",
       "      <td>0</td>\n",
       "    </tr>\n",
       "    <tr>\n",
       "      <td>1</td>\n",
       "      <td>1</td>\n",
       "      <td>Internet</td>\n",
       "      <td>RoundTrip</td>\n",
       "      <td>112</td>\n",
       "      <td>20</td>\n",
       "      <td>3</td>\n",
       "      <td>Sat</td>\n",
       "      <td>AKLDEL</td>\n",
       "      <td>New Zealand</td>\n",
       "      <td>0</td>\n",
       "      <td>0</td>\n",
       "      <td>0</td>\n",
       "      <td>5.52</td>\n",
       "      <td>0</td>\n",
       "    </tr>\n",
       "    <tr>\n",
       "      <td>2</td>\n",
       "      <td>2</td>\n",
       "      <td>Internet</td>\n",
       "      <td>RoundTrip</td>\n",
       "      <td>243</td>\n",
       "      <td>22</td>\n",
       "      <td>17</td>\n",
       "      <td>Wed</td>\n",
       "      <td>AKLDEL</td>\n",
       "      <td>India</td>\n",
       "      <td>1</td>\n",
       "      <td>1</td>\n",
       "      <td>0</td>\n",
       "      <td>5.52</td>\n",
       "      <td>0</td>\n",
       "    </tr>\n",
       "    <tr>\n",
       "      <td>3</td>\n",
       "      <td>1</td>\n",
       "      <td>Internet</td>\n",
       "      <td>RoundTrip</td>\n",
       "      <td>96</td>\n",
       "      <td>31</td>\n",
       "      <td>4</td>\n",
       "      <td>Sat</td>\n",
       "      <td>AKLDEL</td>\n",
       "      <td>New Zealand</td>\n",
       "      <td>0</td>\n",
       "      <td>0</td>\n",
       "      <td>1</td>\n",
       "      <td>5.52</td>\n",
       "      <td>0</td>\n",
       "    </tr>\n",
       "    <tr>\n",
       "      <td>4</td>\n",
       "      <td>2</td>\n",
       "      <td>Internet</td>\n",
       "      <td>RoundTrip</td>\n",
       "      <td>68</td>\n",
       "      <td>22</td>\n",
       "      <td>15</td>\n",
       "      <td>Wed</td>\n",
       "      <td>AKLDEL</td>\n",
       "      <td>India</td>\n",
       "      <td>1</td>\n",
       "      <td>0</td>\n",
       "      <td>1</td>\n",
       "      <td>5.52</td>\n",
       "      <td>0</td>\n",
       "    </tr>\n",
       "  </tbody>\n",
       "</table>\n",
       "</div>"
      ],
      "text/plain": [
       "   num_passengers sales_channel  trip_type  purchase_lead  length_of_stay  \\\n",
       "0               2      Internet  RoundTrip            262              19   \n",
       "1               1      Internet  RoundTrip            112              20   \n",
       "2               2      Internet  RoundTrip            243              22   \n",
       "3               1      Internet  RoundTrip             96              31   \n",
       "4               2      Internet  RoundTrip             68              22   \n",
       "\n",
       "   flight_hour flight_day   route booking_origin  wants_extra_baggage  \\\n",
       "0            7        Sat  AKLDEL    New Zealand                    1   \n",
       "1            3        Sat  AKLDEL    New Zealand                    0   \n",
       "2           17        Wed  AKLDEL          India                    1   \n",
       "3            4        Sat  AKLDEL    New Zealand                    0   \n",
       "4           15        Wed  AKLDEL          India                    1   \n",
       "\n",
       "   wants_preferred_seat  wants_in_flight_meals  flight_duration  \\\n",
       "0                     0                      0             5.52   \n",
       "1                     0                      0             5.52   \n",
       "2                     1                      0             5.52   \n",
       "3                     0                      1             5.52   \n",
       "4                     0                      1             5.52   \n",
       "\n",
       "   booking_complete  \n",
       "0                 0  \n",
       "1                 0  \n",
       "2                 0  \n",
       "3                 0  \n",
       "4                 0  "
      ]
     },
     "execution_count": 3,
     "metadata": {},
     "output_type": "execute_result"
    }
   ],
   "source": [
    "df = pd.read_csv(\"customer_booking.csv\", encoding=\"ISO-8859-1\")\n",
    "df.head()"
   ]
  },
  {
   "cell_type": "markdown",
   "metadata": {},
   "source": [
    "The `.head()` method allows us to view the first 5 rows in the dataset, this is useful for visual inspection of our columns"
   ]
  },
  {
   "cell_type": "code",
   "execution_count": 4,
   "metadata": {},
   "outputs": [
    {
     "name": "stdout",
     "output_type": "stream",
     "text": [
      "<class 'pandas.core.frame.DataFrame'>\n",
      "RangeIndex: 50000 entries, 0 to 49999\n",
      "Data columns (total 14 columns):\n",
      "num_passengers           50000 non-null int64\n",
      "sales_channel            50000 non-null object\n",
      "trip_type                50000 non-null object\n",
      "purchase_lead            50000 non-null int64\n",
      "length_of_stay           50000 non-null int64\n",
      "flight_hour              50000 non-null int64\n",
      "flight_day               50000 non-null object\n",
      "route                    50000 non-null object\n",
      "booking_origin           50000 non-null object\n",
      "wants_extra_baggage      50000 non-null int64\n",
      "wants_preferred_seat     50000 non-null int64\n",
      "wants_in_flight_meals    50000 non-null int64\n",
      "flight_duration          50000 non-null float64\n",
      "booking_complete         50000 non-null int64\n",
      "dtypes: float64(1), int64(8), object(5)\n",
      "memory usage: 5.3+ MB\n"
     ]
    }
   ],
   "source": [
    "df.info()"
   ]
  },
  {
   "attachments": {},
   "cell_type": "markdown",
   "metadata": {},
   "source": [
    "The `.info()` method gives us a data description, telling us the names of the columns, their data types and how many null values we have. Fortunately, we have no null values. It looks like some of these columns should be converted into different data types, e.g. flight_day.\n",
    "\n",
    "To provide more context, below is a more detailed data description, explaining exactly what each column means:\n",
    "\n",
    "- `num_passengers` = number of passengers travelling\n",
    "- `sales_channel` = sales channel booking was made on\n",
    "- `trip_type` = trip Type (Round Trip, One Way, Circle Trip)\n",
    "- `purchase_lead` = number of days between travel date and booking date\n",
    "- `length_of_stay` = number of days spent at destination\n",
    "- `flight_hour` = hour of flight departure\n",
    "- `flight_day` = day of week of flight departure\n",
    "- `route` = origin -> destination flight route\n",
    "- `booking_origin` = country from where booking was made\n",
    "- `wants_extra_baggage` = if the customer wanted extra baggage in the booking\n",
    "- `wants_preferred_seat` = if the customer wanted a preferred seat in the booking\n",
    "- `wants_in_flight_meals` = if the customer wanted in-flight meals in the booking\n",
    "- `flight_duration` = total duration of flight (in hours)\n",
    "- `booking_complete` = flag indicating if the customer completed the booking\n"
   ]
  },
  {
   "cell_type": "code",
   "execution_count": 5,
   "metadata": {},
   "outputs": [
    {
     "data": {
      "text/plain": [
       "array(['Sat', 'Wed', 'Thu', 'Mon', 'Sun', 'Tue', 'Fri'], dtype=object)"
      ]
     },
     "execution_count": 5,
     "metadata": {},
     "output_type": "execute_result"
    }
   ],
   "source": [
    "df[\"flight_day\"].unique()"
   ]
  },
  {
   "cell_type": "code",
   "execution_count": 6,
   "metadata": {},
   "outputs": [],
   "source": [
    "mapping = {\n",
    "    \"Mon\": 1,\n",
    "    \"Tue\": 2,\n",
    "    \"Wed\": 3,\n",
    "    \"Thu\": 4,\n",
    "    \"Fri\": 5,\n",
    "    \"Sat\": 6,\n",
    "    \"Sun\": 7,\n",
    "}\n",
    "\n",
    "df[\"flight_day\"] = df[\"flight_day\"].map(mapping)"
   ]
  },
  {
   "cell_type": "code",
   "execution_count": 7,
   "metadata": {},
   "outputs": [
    {
     "data": {
      "text/plain": [
       "array([6, 3, 4, 1, 7, 2, 5], dtype=int64)"
      ]
     },
     "execution_count": 7,
     "metadata": {},
     "output_type": "execute_result"
    }
   ],
   "source": [
    "df[\"flight_day\"].unique()"
   ]
  },
  {
   "cell_type": "code",
   "execution_count": 10,
   "metadata": {},
   "outputs": [
    {
     "data": {
      "text/plain": [
       "array(['New Zealand', 'India', 'United Kingdom', 'China', 'South Korea',\n",
       "       'Japan', 'Malaysia', 'Singapore', 'Switzerland', 'Germany',\n",
       "       'Indonesia', 'Czech Republic', 'Vietnam', 'Thailand', 'Spain',\n",
       "       'Romania', 'Ireland', 'Italy', 'Slovakia', 'United Arab Emirates',\n",
       "       'Tonga', 'Réunion', '(not set)', 'Saudi Arabia', 'Netherlands',\n",
       "       'Qatar', 'Hong Kong', 'Philippines', 'Sri Lanka', 'France',\n",
       "       'Croatia', 'United States', 'Laos', 'Hungary', 'Portugal',\n",
       "       'Cyprus', 'Australia', 'Cambodia', 'Poland', 'Belgium', 'Oman',\n",
       "       'Bangladesh', 'Kazakhstan', 'Brazil', 'Turkey', 'Kenya', 'Taiwan',\n",
       "       'Brunei', 'Chile', 'Bulgaria', 'Ukraine', 'Denmark', 'Colombia',\n",
       "       'Iran', 'Bahrain', 'Solomon Islands', 'Slovenia', 'Mauritius',\n",
       "       'Nepal', 'Russia', 'Kuwait', 'Mexico', 'Sweden', 'Austria',\n",
       "       'Lebanon', 'Jordan', 'Greece', 'Mongolia', 'Canada', 'Tanzania',\n",
       "       'Peru', 'Timor-Leste', 'Argentina', 'New Caledonia', 'Macau',\n",
       "       'Myanmar (Burma)', 'Norway', 'Panama', 'Bhutan', 'Norfolk Island',\n",
       "       'Finland', 'Nicaragua', 'Maldives', 'Egypt', 'Israel', 'Tunisia',\n",
       "       'South Africa', 'Papua New Guinea', 'Paraguay', 'Estonia',\n",
       "       'Seychelles', 'Afghanistan', 'Guam', 'Czechia', 'Malta', 'Vanuatu',\n",
       "       'Belarus', 'Pakistan', 'Iraq', 'Ghana', 'Gibraltar', 'Guatemala',\n",
       "       'Algeria', 'Svalbard & Jan Mayen'], dtype=object)"
      ]
     },
     "execution_count": 10,
     "metadata": {},
     "output_type": "execute_result"
    }
   ],
   "source": [
    "df['booking_origin'].unique()"
   ]
  },
  {
   "cell_type": "code",
   "execution_count": 11,
   "metadata": {},
   "outputs": [],
   "source": [
    "#this is horribly inefficient but for the sake of getting the results, it will do for now.\n",
    "mapping2 = {\n",
    "    \"New Zealand\": \"Oceania\",\n",
    "    \"India\": \"South Asia\",\n",
    "    \"United Kingdom\": \"Europe\",\n",
    "    \"China\": \"East Asia\",\n",
    "    \"South Korea\": \"East Asia\",\n",
    "    \"Japan\": \"East Asia\",\n",
    "    \"Malaysia'\": \"South East Asia\",\n",
    "    'Singapore': \"South East Asia\",\n",
    "    'Switzerland': \"Europe\", \n",
    "    'Germany': \"Europe\",\n",
    "    'Indonesia': \"South East Asia\",\n",
    "    'Czech Republic': \"Europe\",\n",
    "    'Vietnam': \"South Asia\",\n",
    "    'Thailand': \"South Asia\",\n",
    "    'Spain': \"Europe\",\n",
    "    'Romania': \"Europe\",\n",
    "    'Ireland': \"Europe\",\n",
    "    'Italy': \"Europe\",\n",
    "    'Slovakia': \"Europe\",\n",
    "    'United Arab Emirates': \"Middle East\",\n",
    "    'Tonga': \"Oceania\",\n",
    "    'Réunion': 'Africa',\n",
    "    '(not set)': \"Unknown\",\n",
    "    'Saudi Arabia': \"Middle East\",\n",
    "    'Netherlands': \"Europe\",\n",
    "    'Qatar': \"Middle East\",\n",
    "    'Hong Kong': \"East Asia\",\n",
    "    'Philippines': \"South East Asia\",\n",
    "    'Sri Lanka': \"South Asia\",\n",
    "    'France' : \"Europe\",\n",
    "    'Croatia' : \"Europe\",\n",
    "    'United States': \"North America\",\n",
    "    'Laos':\"South East Asia\",\n",
    "    'Hungary': \"Europe\",\n",
    "    'Portugal': \"Europe\",\n",
    "    'Cyprus': \"Europe\", \n",
    "    'Australia': \"Oceania\",\n",
    "    'Cambodia': \"South East Asia\",\n",
    "    'Poland': \"Europe\",\n",
    "    'Belgium': \"Europe\",\n",
    "    'Oman': \"Middle East\",\n",
    "    'Bangladesh': \"South Asia\",\n",
    "    'Kazakhstan': \"South Asia\",\n",
    "    'Brazil': \"South America\",\n",
    "    'Turkey': \"Europe\",\n",
    "    'Kenya': 'Africa',\n",
    "    'Taiwan': \"East Asia\",\n",
    "    'Brunei': \"South East Asia\",\n",
    "    'Chile': \"South America\",\n",
    "    'Bulgaria': \"Europe\",\n",
    "    'Ukraine': \"Europe\",\n",
    "    'Denmark': \"Nordic\",\n",
    "    'Colombia': \"South America\",\n",
    "    'Iran': \"Middle East\",\n",
    "    'Bahrain': \"Middle East\",\n",
    "    'Solomon Islands': \"South East Asia\",\n",
    "    'Slovenia': \"Europe\",\n",
    "    'Mauritius': 'Africa',\n",
    "    'Nepal': \"South Asia\",\n",
    "    'Russia': \"Europe\",\n",
    "    'Kuwait': \"Middle East\", \n",
    "    'Mexico': \"Carribean\",\n",
    "    'Sweden': \"Nordic\",\n",
    "    'Austria': \"Europe\",\n",
    "    'Lebanon': \"Middle East\",\n",
    "    'Jordan': \"Middle East\",\n",
    "    'Greece': \"Europe\",\n",
    "    'Mongolia': \"East Asia\",\n",
    "    'Canada': \"North America\",\n",
    "    'Tanzania': 'Africa',\n",
    "    'Peru': \"South America\",\n",
    "    'Timor-Leste': \"Oceania\",\n",
    "    'Argentina': \"South America\",\n",
    "    'New Caledonia': \"Oceania\",\n",
    "    'Macau': \"East Asia\",\n",
    "    'Myanmar (Burma)': \"South Asia\",\n",
    "    'Norway': \"Nordic\",\n",
    "    'Panama': \"Carribean\",\n",
    "    'Bhutan': \"South Asia\",\n",
    "    'Norfolk Island': \"Oceania\",\n",
    "    'Finland': \"Nordic\",\n",
    "    'Nicaragua': \"Carribean\",\n",
    "    'Maldives': \"South Asia\",\n",
    "    'Egypt': 'Africa',\n",
    "    'Israel': \"Middle East\",\n",
    "    'Tunisia': 'Africa',\n",
    "    'South Africa': 'Africa', \n",
    "    'Papua New Guinea': \"Oceania\", \n",
    "    'Paraguay': \"South America\", \n",
    "    'Estonia': \"Europe\",\n",
    "    'Seychelles': 'Africa', \n",
    "    'Afghanistan': \"Middle East\", \n",
    "    'Guam': \"Carribean\",\n",
    "    'Czechia': \"Europe\",\n",
    "    'Malta': \"Europe\",\n",
    "    'Vanuatu': \"Oceania\",\n",
    "    'Belarus': \"Europe\", \n",
    "    'Pakistan': \"Middle East\",\n",
    "    'Iraq': \"Middle East\",\n",
    "    'Ghana': 'Africa',\n",
    "    'Gibraltar': \"Europe\",\n",
    "    'Guatemala': \"Carribean\",\n",
    "    'Algeria': \"Europe\",\n",
    "    'Svalbard & Jan Mayen': \"Nordic\"}\n",
    "\n",
    "df[\"booking_origin\"] = df[\"booking_origin\"].map(mapping2)"
   ]
  },
  {
   "cell_type": "code",
   "execution_count": 15,
   "metadata": {},
   "outputs": [
    {
     "data": {
      "text/html": [
       "<div>\n",
       "<style scoped>\n",
       "    .dataframe tbody tr th:only-of-type {\n",
       "        vertical-align: middle;\n",
       "    }\n",
       "\n",
       "    .dataframe tbody tr th {\n",
       "        vertical-align: top;\n",
       "    }\n",
       "\n",
       "    .dataframe thead th {\n",
       "        text-align: right;\n",
       "    }\n",
       "</style>\n",
       "<table border=\"1\" class=\"dataframe\">\n",
       "  <thead>\n",
       "    <tr style=\"text-align: right;\">\n",
       "      <th></th>\n",
       "      <th>num_passengers</th>\n",
       "      <th>purchase_lead</th>\n",
       "      <th>length_of_stay</th>\n",
       "      <th>flight_hour</th>\n",
       "      <th>flight_day</th>\n",
       "      <th>wants_extra_baggage</th>\n",
       "      <th>wants_preferred_seat</th>\n",
       "      <th>wants_in_flight_meals</th>\n",
       "      <th>flight_duration</th>\n",
       "      <th>booking_complete</th>\n",
       "    </tr>\n",
       "  </thead>\n",
       "  <tbody>\n",
       "    <tr>\n",
       "      <td>count</td>\n",
       "      <td>50000.000000</td>\n",
       "      <td>50000.000000</td>\n",
       "      <td>50000.00000</td>\n",
       "      <td>50000.00000</td>\n",
       "      <td>50000.000000</td>\n",
       "      <td>50000.000000</td>\n",
       "      <td>50000.000000</td>\n",
       "      <td>50000.000000</td>\n",
       "      <td>50000.000000</td>\n",
       "      <td>50000.000000</td>\n",
       "    </tr>\n",
       "    <tr>\n",
       "      <td>mean</td>\n",
       "      <td>1.591240</td>\n",
       "      <td>84.940480</td>\n",
       "      <td>23.04456</td>\n",
       "      <td>9.06634</td>\n",
       "      <td>3.814420</td>\n",
       "      <td>0.668780</td>\n",
       "      <td>0.296960</td>\n",
       "      <td>0.427140</td>\n",
       "      <td>7.277561</td>\n",
       "      <td>0.149560</td>\n",
       "    </tr>\n",
       "    <tr>\n",
       "      <td>std</td>\n",
       "      <td>1.020165</td>\n",
       "      <td>90.451378</td>\n",
       "      <td>33.88767</td>\n",
       "      <td>5.41266</td>\n",
       "      <td>1.992792</td>\n",
       "      <td>0.470657</td>\n",
       "      <td>0.456923</td>\n",
       "      <td>0.494668</td>\n",
       "      <td>1.496863</td>\n",
       "      <td>0.356643</td>\n",
       "    </tr>\n",
       "    <tr>\n",
       "      <td>min</td>\n",
       "      <td>1.000000</td>\n",
       "      <td>0.000000</td>\n",
       "      <td>0.00000</td>\n",
       "      <td>0.00000</td>\n",
       "      <td>1.000000</td>\n",
       "      <td>0.000000</td>\n",
       "      <td>0.000000</td>\n",
       "      <td>0.000000</td>\n",
       "      <td>4.670000</td>\n",
       "      <td>0.000000</td>\n",
       "    </tr>\n",
       "    <tr>\n",
       "      <td>25%</td>\n",
       "      <td>1.000000</td>\n",
       "      <td>21.000000</td>\n",
       "      <td>5.00000</td>\n",
       "      <td>5.00000</td>\n",
       "      <td>2.000000</td>\n",
       "      <td>0.000000</td>\n",
       "      <td>0.000000</td>\n",
       "      <td>0.000000</td>\n",
       "      <td>5.620000</td>\n",
       "      <td>0.000000</td>\n",
       "    </tr>\n",
       "    <tr>\n",
       "      <td>50%</td>\n",
       "      <td>1.000000</td>\n",
       "      <td>51.000000</td>\n",
       "      <td>17.00000</td>\n",
       "      <td>9.00000</td>\n",
       "      <td>4.000000</td>\n",
       "      <td>1.000000</td>\n",
       "      <td>0.000000</td>\n",
       "      <td>0.000000</td>\n",
       "      <td>7.570000</td>\n",
       "      <td>0.000000</td>\n",
       "    </tr>\n",
       "    <tr>\n",
       "      <td>75%</td>\n",
       "      <td>2.000000</td>\n",
       "      <td>115.000000</td>\n",
       "      <td>28.00000</td>\n",
       "      <td>13.00000</td>\n",
       "      <td>5.000000</td>\n",
       "      <td>1.000000</td>\n",
       "      <td>1.000000</td>\n",
       "      <td>1.000000</td>\n",
       "      <td>8.830000</td>\n",
       "      <td>0.000000</td>\n",
       "    </tr>\n",
       "    <tr>\n",
       "      <td>max</td>\n",
       "      <td>9.000000</td>\n",
       "      <td>867.000000</td>\n",
       "      <td>778.00000</td>\n",
       "      <td>23.00000</td>\n",
       "      <td>7.000000</td>\n",
       "      <td>1.000000</td>\n",
       "      <td>1.000000</td>\n",
       "      <td>1.000000</td>\n",
       "      <td>9.500000</td>\n",
       "      <td>1.000000</td>\n",
       "    </tr>\n",
       "  </tbody>\n",
       "</table>\n",
       "</div>"
      ],
      "text/plain": [
       "       num_passengers  purchase_lead  length_of_stay  flight_hour  \\\n",
       "count    50000.000000   50000.000000     50000.00000  50000.00000   \n",
       "mean         1.591240      84.940480        23.04456      9.06634   \n",
       "std          1.020165      90.451378        33.88767      5.41266   \n",
       "min          1.000000       0.000000         0.00000      0.00000   \n",
       "25%          1.000000      21.000000         5.00000      5.00000   \n",
       "50%          1.000000      51.000000        17.00000      9.00000   \n",
       "75%          2.000000     115.000000        28.00000     13.00000   \n",
       "max          9.000000     867.000000       778.00000     23.00000   \n",
       "\n",
       "         flight_day  wants_extra_baggage  wants_preferred_seat  \\\n",
       "count  50000.000000         50000.000000          50000.000000   \n",
       "mean       3.814420             0.668780              0.296960   \n",
       "std        1.992792             0.470657              0.456923   \n",
       "min        1.000000             0.000000              0.000000   \n",
       "25%        2.000000             0.000000              0.000000   \n",
       "50%        4.000000             1.000000              0.000000   \n",
       "75%        5.000000             1.000000              1.000000   \n",
       "max        7.000000             1.000000              1.000000   \n",
       "\n",
       "       wants_in_flight_meals  flight_duration  booking_complete  \n",
       "count           50000.000000     50000.000000      50000.000000  \n",
       "mean                0.427140         7.277561          0.149560  \n",
       "std                 0.494668         1.496863          0.356643  \n",
       "min                 0.000000         4.670000          0.000000  \n",
       "25%                 0.000000         5.620000          0.000000  \n",
       "50%                 0.000000         7.570000          0.000000  \n",
       "75%                 1.000000         8.830000          0.000000  \n",
       "max                 1.000000         9.500000          1.000000  "
      ]
     },
     "execution_count": 15,
     "metadata": {},
     "output_type": "execute_result"
    }
   ],
   "source": [
    "df.describe()"
   ]
  },
  {
   "attachments": {},
   "cell_type": "markdown",
   "metadata": {},
   "source": [
    "Roadmap: 1. inspect the data and do more eda to find trends in the data. 2. once any trends or relations have been found, we can start determining which variable affect completed bookings 3. then train a ML model to predict whether or not a booking will be successful. "
   ]
  },
  {
   "cell_type": "code",
   "execution_count": 9,
   "metadata": {},
   "outputs": [
    {
     "data": {
      "image/png": "[encoded data removed]",
      "text/plain": [
       "<Figure size 432x288 with 1 Axes>"
      ]
     },
     "metadata": {
      "needs_background": "light"
     },
     "output_type": "display_data"
    }
   ],
   "source": [
    "#investigate the rate of booking completion\n",
    "ax = sns.barplot(x=[\"Booking Incomplete\",\"Booking complete\"], y = df['booking_complete'].value_counts(), )\n",
    "ax.set_ylim(0,45500)\n",
    "ax.set_ylabel(\"Frequency\")\n",
    "for p in ax.patches:\n",
    "    ax.text(p.get_x() + p.get_width()/2., p.get_height(), '%d' % int(p.get_height()), \n",
    "            fontsize=12, color='black', ha='center', va='bottom')\n",
    "plt.show()"
   ]
  },
  {
   "attachments": {},
   "cell_type": "markdown",
   "metadata": {},
   "source": [
    "So we can see the vast majority (85%) of bookings do not end in completion"
   ]
  },
  {
   "cell_type": "code",
   "execution_count": 24,
   "metadata": {},
   "outputs": [
    {
     "data": {
      "text/html": [
       "<div>\n",
       "<style scoped>\n",
       "    .dataframe tbody tr th:only-of-type {\n",
       "        vertical-align: middle;\n",
       "    }\n",
       "\n",
       "    .dataframe tbody tr th {\n",
       "        vertical-align: top;\n",
       "    }\n",
       "\n",
       "    .dataframe thead th {\n",
       "        text-align: right;\n",
       "    }\n",
       "</style>\n",
       "<table border=\"1\" class=\"dataframe\">\n",
       "  <thead>\n",
       "    <tr style=\"text-align: right;\">\n",
       "      <th></th>\n",
       "      <th>num_passengers</th>\n",
       "      <th>purchase_lead</th>\n",
       "      <th>length_of_stay</th>\n",
       "      <th>flight_hour</th>\n",
       "      <th>flight_day</th>\n",
       "      <th>wants_extra_baggage</th>\n",
       "      <th>wants_preferred_seat</th>\n",
       "      <th>wants_in_flight_meals</th>\n",
       "      <th>flight_duration</th>\n",
       "      <th>booking_complete</th>\n",
       "      <th>...</th>\n",
       "      <th>booking_origin_East Asia</th>\n",
       "      <th>booking_origin_Europe</th>\n",
       "      <th>booking_origin_Middle East</th>\n",
       "      <th>booking_origin_Nordic</th>\n",
       "      <th>booking_origin_North America</th>\n",
       "      <th>booking_origin_Oceania</th>\n",
       "      <th>booking_origin_South America</th>\n",
       "      <th>booking_origin_South Asia</th>\n",
       "      <th>booking_origin_South East Asia</th>\n",
       "      <th>booking_origin_Unknown</th>\n",
       "    </tr>\n",
       "  </thead>\n",
       "  <tbody>\n",
       "    <tr>\n",
       "      <td>0</td>\n",
       "      <td>2</td>\n",
       "      <td>262</td>\n",
       "      <td>19</td>\n",
       "      <td>7</td>\n",
       "      <td>6</td>\n",
       "      <td>1</td>\n",
       "      <td>0</td>\n",
       "      <td>0</td>\n",
       "      <td>5.52</td>\n",
       "      <td>0</td>\n",
       "      <td>...</td>\n",
       "      <td>0.0</td>\n",
       "      <td>0.0</td>\n",
       "      <td>0.0</td>\n",
       "      <td>0.0</td>\n",
       "      <td>0.0</td>\n",
       "      <td>1.0</td>\n",
       "      <td>0.0</td>\n",
       "      <td>0.0</td>\n",
       "      <td>0.0</td>\n",
       "      <td>0.0</td>\n",
       "    </tr>\n",
       "    <tr>\n",
       "      <td>1</td>\n",
       "      <td>1</td>\n",
       "      <td>112</td>\n",
       "      <td>20</td>\n",
       "      <td>3</td>\n",
       "      <td>6</td>\n",
       "      <td>0</td>\n",
       "      <td>0</td>\n",
       "      <td>0</td>\n",
       "      <td>5.52</td>\n",
       "      <td>0</td>\n",
       "      <td>...</td>\n",
       "      <td>0.0</td>\n",
       "      <td>0.0</td>\n",
       "      <td>0.0</td>\n",
       "      <td>0.0</td>\n",
       "      <td>0.0</td>\n",
       "      <td>1.0</td>\n",
       "      <td>0.0</td>\n",
       "      <td>0.0</td>\n",
       "      <td>0.0</td>\n",
       "      <td>0.0</td>\n",
       "    </tr>\n",
       "    <tr>\n",
       "      <td>2</td>\n",
       "      <td>2</td>\n",
       "      <td>243</td>\n",
       "      <td>22</td>\n",
       "      <td>17</td>\n",
       "      <td>3</td>\n",
       "      <td>1</td>\n",
       "      <td>1</td>\n",
       "      <td>0</td>\n",
       "      <td>5.52</td>\n",
       "      <td>0</td>\n",
       "      <td>...</td>\n",
       "      <td>0.0</td>\n",
       "      <td>0.0</td>\n",
       "      <td>0.0</td>\n",
       "      <td>0.0</td>\n",
       "      <td>0.0</td>\n",
       "      <td>0.0</td>\n",
       "      <td>0.0</td>\n",
       "      <td>1.0</td>\n",
       "      <td>0.0</td>\n",
       "      <td>0.0</td>\n",
       "    </tr>\n",
       "    <tr>\n",
       "      <td>3</td>\n",
       "      <td>1</td>\n",
       "      <td>96</td>\n",
       "      <td>31</td>\n",
       "      <td>4</td>\n",
       "      <td>6</td>\n",
       "      <td>0</td>\n",
       "      <td>0</td>\n",
       "      <td>1</td>\n",
       "      <td>5.52</td>\n",
       "      <td>0</td>\n",
       "      <td>...</td>\n",
       "      <td>0.0</td>\n",
       "      <td>0.0</td>\n",
       "      <td>0.0</td>\n",
       "      <td>0.0</td>\n",
       "      <td>0.0</td>\n",
       "      <td>1.0</td>\n",
       "      <td>0.0</td>\n",
       "      <td>0.0</td>\n",
       "      <td>0.0</td>\n",
       "      <td>0.0</td>\n",
       "    </tr>\n",
       "    <tr>\n",
       "      <td>4</td>\n",
       "      <td>2</td>\n",
       "      <td>68</td>\n",
       "      <td>22</td>\n",
       "      <td>15</td>\n",
       "      <td>3</td>\n",
       "      <td>1</td>\n",
       "      <td>0</td>\n",
       "      <td>1</td>\n",
       "      <td>5.52</td>\n",
       "      <td>0</td>\n",
       "      <td>...</td>\n",
       "      <td>0.0</td>\n",
       "      <td>0.0</td>\n",
       "      <td>0.0</td>\n",
       "      <td>0.0</td>\n",
       "      <td>0.0</td>\n",
       "      <td>0.0</td>\n",
       "      <td>0.0</td>\n",
       "      <td>1.0</td>\n",
       "      <td>0.0</td>\n",
       "      <td>0.0</td>\n",
       "    </tr>\n",
       "  </tbody>\n",
       "</table>\n",
       "<p>5 rows × 27 columns</p>\n",
       "</div>"
      ],
      "text/plain": [
       "   num_passengers  purchase_lead  length_of_stay  flight_hour  flight_day  \\\n",
       "0               2            262              19            7           6   \n",
       "1               1            112              20            3           6   \n",
       "2               2            243              22           17           3   \n",
       "3               1             96              31            4           6   \n",
       "4               2             68              22           15           3   \n",
       "\n",
       "   wants_extra_baggage  wants_preferred_seat  wants_in_flight_meals  \\\n",
       "0                    1                     0                      0   \n",
       "1                    0                     0                      0   \n",
       "2                    1                     1                      0   \n",
       "3                    0                     0                      1   \n",
       "4                    1                     0                      1   \n",
       "\n",
       "   flight_duration  booking_complete  ...  booking_origin_East Asia  \\\n",
       "0             5.52                 0  ...                       0.0   \n",
       "1             5.52                 0  ...                       0.0   \n",
       "2             5.52                 0  ...                       0.0   \n",
       "3             5.52                 0  ...                       0.0   \n",
       "4             5.52                 0  ...                       0.0   \n",
       "\n",
       "   booking_origin_Europe  booking_origin_Middle East  booking_origin_Nordic  \\\n",
       "0                    0.0                         0.0                    0.0   \n",
       "1                    0.0                         0.0                    0.0   \n",
       "2                    0.0                         0.0                    0.0   \n",
       "3                    0.0                         0.0                    0.0   \n",
       "4                    0.0                         0.0                    0.0   \n",
       "\n",
       "   booking_origin_North America  booking_origin_Oceania  \\\n",
       "0                           0.0                     1.0   \n",
       "1                           0.0                     1.0   \n",
       "2                           0.0                     0.0   \n",
       "3                           0.0                     1.0   \n",
       "4                           0.0                     0.0   \n",
       "\n",
       "   booking_origin_South America  booking_origin_South Asia  \\\n",
       "0                           0.0                        0.0   \n",
       "1                           0.0                        0.0   \n",
       "2                           0.0                        1.0   \n",
       "3                           0.0                        0.0   \n",
       "4                           0.0                        1.0   \n",
       "\n",
       "   booking_origin_South East Asia  booking_origin_Unknown  \n",
       "0                             0.0                     0.0  \n",
       "1                             0.0                     0.0  \n",
       "2                             0.0                     0.0  \n",
       "3                             0.0                     0.0  \n",
       "4                             0.0                     0.0  \n",
       "\n",
       "[5 rows x 27 columns]"
      ]
     },
     "execution_count": 24,
     "metadata": {},
     "output_type": "execute_result"
    }
   ],
   "source": [
    "#performing some more checks and adjustments to the data (if necessary)\n",
    "df['sales_channel'].unique()\n",
    "df['trip_type'].unique()\n",
    "df['route'].unique()\n",
    "\n",
    "\n",
    "#all these variable need to be transformed to numerical values\n",
    "#because 'trip type', 'route' and 'booking origin' are all non-binary, we'll use one hot encoding to assign numerical values to each of the values\n",
    "\n",
    "one_hot_enc = pd.get_dummies(data=df, columns=['sales_channel','trip_type','booking_origin'], dtype = float)\n",
    "one_hot_enc = one_hot_enc.drop(['route'], axis=1)\n",
    "one_hot_enc.head()\n",
    "\n",
    "\n"
   ]
  },
  {
   "cell_type": "code",
   "execution_count": 25,
   "metadata": {},
   "outputs": [
    {
     "name": "stdout",
     "output_type": "stream",
     "text": [
      "accuracy:  0.85\n",
      "              precision    recall  f1-score   support\n",
      "\n",
      "           0       0.86      0.98      0.92      8504\n",
      "           1       0.49      0.11      0.17      1496\n",
      "\n",
      "    accuracy                           0.85     10000\n",
      "   macro avg       0.68      0.54      0.55     10000\n",
      "weighted avg       0.81      0.85      0.81     10000\n",
      "\n"
     ]
    }
   ],
   "source": [
    "#splitting the dataset for training and testing\n",
    "from sklearn.model_selection import train_test_split\n",
    "\n",
    "#moving booking_compete to the 0 index column for ease\n",
    "column_to_move = one_hot_enc.pop(\"booking_complete\")\n",
    "one_hot_enc.insert(0, \"booking_complete\", column_to_move)\n",
    "\n",
    "X = one_hot_enc.iloc[:,1:]\n",
    "y = one_hot_enc['booking_complete']\n",
    "\n",
    "X_train, X_test, y_train, y_test = train_test_split(X, y, stratify=y, test_size=0.2, random_state = 100)\n",
    "\n",
    "#making the RandomForest model\n",
    "\n",
    "from sklearn.ensemble import RandomForestClassifier\n",
    "\n",
    "forest = RandomForestClassifier(n_estimators = 100, random_state = 100, max_features='sqrt')\n",
    "forest.fit(X_train, y_train)\n",
    "predictions = forest.predict(X_test)\n",
    "\n",
    "#evaluating performance\n",
    "from sklearn import metrics\n",
    "\n",
    "print(\"accuracy: \", metrics.accuracy_score(y_test, predictions))\n",
    "print(metrics.classification_report(y_test, predictions))\n",
    "\n"
   ]
  },
  {
   "attachments": {},
   "cell_type": "markdown",
   "metadata": {},
   "source": [
    "We can see from the report above that the model has 85% accuacy overall but the performance for confirmed bookings is terrible (53%). Next, check what the most important features were and try and refine the model"
   ]
  },
  {
   "cell_type": "code",
   "execution_count": 26,
   "metadata": {},
   "outputs": [],
   "source": [
    "#checking to see the most important features\n",
    "\n",
    "feature_imp = pd.Series(forest.feature_importances_, index=one_hot_enc.columns.values[1:]).sort_values(ascending=False)\n",
    "most_imp = feature_imp[:11]\n",
    "\n",
    "top_half_features = feature_imp[:(len(feature_imp)//2)]\n"
   ]
  },
  {
   "cell_type": "code",
   "execution_count": 27,
   "metadata": {},
   "outputs": [
    {
     "name": "stderr",
     "output_type": "stream",
     "text": [
      "No handles with labels found to put in legend.\n"
     ]
    },
    {
     "data": {
      "image/png": "[encoded data removed]",
      "text/plain": [
       "<Figure size 432x288 with 1 Axes>"
      ]
     },
     "metadata": {
      "needs_background": "light"
     },
     "output_type": "display_data"
    }
   ],
   "source": [
    "#visualizing the most important features\n",
    "\n",
    "import matplotlib.pyplot as plt\n",
    "import seaborn as sns\n",
    "# Creating a bar plot\n",
    "sns.barplot(x=most_imp, y=most_imp.index)\n",
    "# Add labels to your graph\n",
    "plt.xlabel('Feature Importance Score')\n",
    "plt.ylabel('Features')\n",
    "plt.title(\"Visualizing Important Features\")\n",
    "plt.legend()\n",
    "plt.show()"
   ]
  },
  {
   "cell_type": "code",
   "execution_count": 21,
   "metadata": {},
   "outputs": [
    {
     "name": "stdout",
     "output_type": "stream",
     "text": [
      "[2, 4, 3, 5, 1, 9, 865, 8, 818, 6, 7]\n"
     ]
    }
   ],
   "source": [
    "#so running the model again but only using these top 10 features to see what the effect is.\n",
    "most_imp_indexes = most_imp.index\n",
    "rel_indexes = [one_hot_enc.columns.get_loc(col) for col in most_imp_indexes.tolist()]\n",
    "print(rel_indexes)"
   ]
  },
  {
   "cell_type": "code",
   "execution_count": 22,
   "metadata": {},
   "outputs": [
    {
     "name": "stdout",
     "output_type": "stream",
     "text": [
      "accuracy:  0.8452\n",
      "              precision    recall  f1-score   support\n",
      "\n",
      "           0       0.86      0.97      0.91      8504\n",
      "           1       0.44      0.12      0.19      1496\n",
      "\n",
      "    accuracy                           0.85     10000\n",
      "   macro avg       0.65      0.55      0.55     10000\n",
      "weighted avg       0.80      0.85      0.81     10000\n",
      "\n"
     ]
    }
   ],
   "source": [
    "X2 = one_hot_enc.iloc[:, rel_indexes]\n",
    "y2 = one_hot_enc['booking_complete']\n",
    "\n",
    "X2_train, X2_test, y2_train, y2_test = train_test_split(X2, y2, stratify=y2, test_size=0.2, random_state = 100)\n",
    "\n",
    "#making the RandomForest model\n",
    "\n",
    "forest2 = RandomForestClassifier(n_estimators = 100, random_state = 100, max_features=10)\n",
    "forest2.fit(X2_train, y2_train)\n",
    "predictions2 = forest2.predict(X2_test)\n",
    "\n",
    "#evaluating performance\n",
    "\n",
    "print(\"accuracy: \", metrics.accuracy_score(y2_test, predictions2))\n",
    "print(metrics.classification_report(y2_test, predictions2))"
   ]
  },
  {
   "attachments": {},
   "cell_type": "markdown",
   "metadata": {},
   "source": [
    "So using only the 10 most important features actually decreases the accuracy slightly to 84%. Next, we'll try getting rid of unimportant features i.e. the lowest 50% and see what effect it has."
   ]
  },
  {
   "cell_type": "code",
   "execution_count": 23,
   "metadata": {},
   "outputs": [
    {
     "name": "stdout",
     "output_type": "stream",
     "text": [
      "accuracy:  0.8526\n",
      "              precision    recall  f1-score   support\n",
      "\n",
      "           0       0.87      0.98      0.92      8504\n",
      "           1       0.53      0.14      0.22      1496\n",
      "\n",
      "    accuracy                           0.85     10000\n",
      "   macro avg       0.70      0.56      0.57     10000\n",
      "weighted avg       0.82      0.85      0.81     10000\n",
      "\n"
     ]
    }
   ],
   "source": [
    "top_imp_indexes = top_half_features.index\n",
    "rel_indexes_top = [one_hot_enc.columns.get_loc(col) for col in top_imp_indexes.tolist()]\n",
    "\n",
    "X3 = one_hot_enc.iloc[:, rel_indexes_top]\n",
    "y3 = one_hot_enc['booking_complete']\n",
    "\n",
    "X3_train, X3_test, y3_train, y3_test = train_test_split(X3, y3, stratify=y3, test_size=0.2, random_state = 100)\n",
    "\n",
    "#making the RandomForest model\n",
    "\n",
    "forest3 = RandomForestClassifier(n_estimators = 100, random_state = 100)\n",
    "forest3.fit(X3_train, y3_train)\n",
    "predictions3 = forest3.predict(X3_test)\n",
    "\n",
    "#evaluating performance\n",
    "\n",
    "print(\"accuracy: \", metrics.accuracy_score(y3_test, predictions3))\n",
    "print(metrics.classification_report(y3_test, predictions3))"
   ]
  },
  {
   "attachments": {},
   "cell_type": "markdown",
   "metadata": {},
   "source": [
    "Again, it doesn't really affect the performance of the model. So will do cross validation on the model to try and improve the accuracy the results."
   ]
  },
  {
   "cell_type": "code",
   "execution_count": 24,
   "metadata": {},
   "outputs": [
    {
     "name": "stdout",
     "output_type": "stream",
     "text": [
      "[0.84891511 0.76292371 0.7058     0.50085009 0.75657566]\n"
     ]
    }
   ],
   "source": [
    "#performing cross validation\n",
    "\n",
    "from sklearn.model_selection import cross_val_score\n",
    "\n",
    "model_scores = cross_val_score(forest, X, y, cv=5, scoring='accuracy')\n",
    "print(model_scores)"
   ]
  },
  {
   "cell_type": "code",
   "execution_count": 25,
   "metadata": {},
   "outputs": [
    {
     "name": "stdout",
     "output_type": "stream",
     "text": [
      "mean score:  0.7150129117385291  standard deviation:  0.11653608762432359\n"
     ]
    }
   ],
   "source": [
    "print('mean score: ',model_scores.mean(), ' standard deviation: ', model_scores.std())\n"
   ]
  },
  {
   "attachments": {},
   "cell_type": "markdown",
   "metadata": {},
   "source": [
    "The cross validated accuracy is only 70%. Next, will try using stratified cross validation to separate my data. This is likely because there is an imbalance in the data between non-compelete bookings and completed bookings"
   ]
  },
  {
   "cell_type": "code",
   "execution_count": 70,
   "metadata": {},
   "outputs": [
    {
     "name": "stdout",
     "output_type": "stream",
     "text": [
      "train: [ 9528  9529  9530 ... 49997 49998 49999] validation: [    0     1     2 ... 15271 15273 15274]\n",
      "train: [    0     1     2 ... 49997 49998 49999] validation: [ 9528  9529  9530 ... 26678 26679 26683]\n",
      "train: [    0     1     2 ... 49997 49998 49999] validation: [19200 19201 19202 ... 34884 34888 34898]\n",
      "train: [    0     1     2 ... 49997 49998 49999] validation: [28881 28882 28885 ... 42611 42629 42636]\n",
      "train: [    0     1     2 ... 42611 42629 42636] validation: [39282 39283 39284 ... 49997 49998 49999]\n",
      "[0.8495150484951505, 0.7597240275972402, 0.6855, 0.5099509950995099, 0.7631763176317632]\n"
     ]
    }
   ],
   "source": [
    "from sklearn.model_selection import StratifiedKFold\n",
    "\n",
    "accuracy = []\n",
    "\n",
    "skf = StratifiedKFold(n_splits=5, random_state=None)\n",
    "skf.get_n_splits(X, y)\n",
    "\n",
    "for train_index, test_index in skf.split(X,y):\n",
    "    print(\"train:\", train_index, \"validation:\", test_index)\n",
    "    X4_train, X4_test = X.iloc[train_index], X.iloc[test_index]\n",
    "    y4_train, y4_test = y.iloc[train_index], y.iloc[test_index]\n",
    "\n",
    "    forest.fit(X4_train,y4_train)\n",
    "    prediction4 = forest.predict(X4_test)\n",
    "    score = metrics.accuracy_score(prediction4, y4_test)\n",
    "    accuracy.append(score)\n",
    "\n",
    "print(accuracy)\n"
   ]
  },
  {
   "cell_type": "code",
   "execution_count": 72,
   "metadata": {},
   "outputs": [
    {
     "name": "stdout",
     "output_type": "stream",
     "text": [
      "0.7135732777647328\n"
     ]
    }
   ],
   "source": [
    "accuracy = np.array(accuracy)\n",
    "print(accuracy.mean())"
   ]
  },
  {
   "attachments": {},
   "cell_type": "markdown",
   "metadata": {},
   "source": [
    "Achieve the same accuracy even with the stratified approach."
   ]
  }
 ],
 "metadata": {
  "kernelspec": {
   "display_name": "base",
   "language": "python",
   "name": "python3"
  },
  "language_info": {
   "codemirror_mode": {
    "name": "ipython",
    "version": 3
   },
   "file_extension": ".py",
   "mimetype": "text/x-python",
   "name": "python",
   "nbconvert_exporter": "python",
   "pygments_lexer": "ipython3",
   "version": "3.7.4 (default, Aug  9 2019, 18:34:13) [MSC v.1915 64 bit (AMD64)]"
  },
  "orig_nbformat": 4,
  "vscode": {
   "interpreter": {
    "hash": "9a74fbd19377a2f1a757e2779c1cacc3073efabc6ddbc1fb145f827acd917706"
   }
  }
 },
 "nbformat": 4,
 "nbformat_minor": 2
}
